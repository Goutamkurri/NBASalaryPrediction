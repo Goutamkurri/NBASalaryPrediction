{
 "cells": [
  {
   "cell_type": "code",
   "execution_count": 3,
   "id": "75a96dda-a3ff-4ca7-b9c3-e654f1979706",
   "metadata": {},
   "outputs": [
    {
     "name": "stdout",
     "output_type": "stream",
     "text": [
      "   Unnamed: 0        Player Name    Salary Position  Age     Team  GP  GS  \\\n",
      "0           0      Stephen Curry  48070014       PG   34      GSW  56  56   \n",
      "1           1          John Wall  47345760       PG   32      LAC  34   3   \n",
      "2           2  Russell Westbrook  47080179       PG   34  LAL/LAC  73  24   \n",
      "3           3       LeBron James  44474988       PF   38      LAL  55  54   \n",
      "4           4       Kevin Durant  44119845       PF   34  BRK/PHO  47  47   \n",
      "\n",
      "     MP    FG  ...  TOV%  USG%  OWS  DWS   WS  WS/48  OBPM  DBPM  BPM  VORP  \n",
      "0  34.7  10.0  ...  12.5  31.0  5.8  2.0  7.8  0.192   7.5   0.1  7.5   4.7  \n",
      "1  22.2   4.1  ...  17.1  27.0 -0.4  0.7  0.3  0.020  -0.8  -0.4 -1.2   0.1  \n",
      "2  29.1   5.9  ...  18.4  27.7 -0.6  2.6  1.9  0.044   0.3  -0.1  0.2   1.2  \n",
      "3  35.5  11.1  ...  11.6  33.3  3.2  2.4  5.6  0.138   5.5   0.6  6.1   4.0  \n",
      "4  35.6  10.3  ...  13.4  30.7  4.7  2.1  6.8  0.194   6.0   1.2  7.1   3.9  \n",
      "\n",
      "[5 rows x 52 columns]\n"
     ]
    }
   ],
   "source": [
    "import pandas as pd\n",
    "\n",
    "file_path = \"nba_2022-23_all_stats_with_salary.csv\"\n",
    "df = pd.read_csv(file_path)\n",
    "print(df.head())"
   ]
  },
  {
   "cell_type": "code",
   "execution_count": 4,
   "id": "626ffd3c-2701-401a-8aaa-f8c9cd148fef",
   "metadata": {},
   "outputs": [
    {
     "name": "stdout",
     "output_type": "stream",
     "text": [
      "   Unnamed: 0        Player Name    Salary Position  Age     Team  GP  GS  \\\n",
      "0           0      Stephen Curry  48070014       PG   34      GSW  56  56   \n",
      "1           1          John Wall  47345760       PG   32      LAC  34   3   \n",
      "2           2  Russell Westbrook  47080179       PG   34  LAL/LAC  73  24   \n",
      "3           3       LeBron James  44474988       PF   38      LAL  55  54   \n",
      "4           4       Kevin Durant  44119845       PF   34  BRK/PHO  47  47   \n",
      "\n",
      "     MP    FG  ...  TOV%  USG%  OWS  DWS   WS  WS/48  OBPM  DBPM  BPM  VORP  \n",
      "0  34.7  10.0  ...  12.5  31.0  5.8  2.0  7.8  0.192   7.5   0.1  7.5   4.7  \n",
      "1  22.2   4.1  ...  17.1  27.0 -0.4  0.7  0.3  0.020  -0.8  -0.4 -1.2   0.1  \n",
      "2  29.1   5.9  ...  18.4  27.7 -0.6  2.6  1.9  0.044   0.3  -0.1  0.2   1.2  \n",
      "3  35.5  11.1  ...  11.6  33.3  3.2  2.4  5.6  0.138   5.5   0.6  6.1   4.0  \n",
      "4  35.6  10.3  ...  13.4  30.7  4.7  2.1  6.8  0.194   6.0   1.2  7.1   3.9  \n",
      "\n",
      "[5 rows x 52 columns]\n"
     ]
    }
   ],
   "source": [
    "fg_percentage_columns = ['FG%', '2P%', '3P%', 'FT%', 'eFG%', 'TS%']\n",
    "\n",
    "df[fg_percentage_columns] = df[fg_percentage_columns].fillna(0)\n",
    "print(df.head())"
   ]
  },
  {
   "cell_type": "code",
   "execution_count": null,
   "id": "0f668cba-6892-431f-87bf-fbe259108ebb",
   "metadata": {},
   "outputs": [],
   "source": []
  }
 ],
 "metadata": {
  "kernelspec": {
   "display_name": "Python 3 (ipykernel)",
   "language": "python",
   "name": "python3"
  },
  "language_info": {
   "codemirror_mode": {
    "name": "ipython",
    "version": 3
   },
   "file_extension": ".py",
   "mimetype": "text/x-python",
   "name": "python",
   "nbconvert_exporter": "python",
   "pygments_lexer": "ipython3",
   "version": "3.11.9"
  }
 },
 "nbformat": 4,
 "nbformat_minor": 5
}
